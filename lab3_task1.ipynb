{
 "cells": [
  {
   "cell_type": "code",
   "execution_count": 2,
   "metadata": {},
   "outputs": [],
   "source": [
    "import sqlite3"
   ]
  },
  {
   "cell_type": "markdown",
   "metadata": {},
   "source": [
    "## Posting lists"
   ]
  },
  {
   "cell_type": "code",
   "execution_count": 179,
   "metadata": {},
   "outputs": [],
   "source": [
    "class PostingList(object):\n",
    "    def __init__(self, coded_sequence=None):\n",
    "        if coded_sequence is None:\n",
    "            self.last_element = 0\n",
    "            self.coded_sequence = bytearray()\n",
    "        else:\n",
    "            encoded_sequence = PostingList.decode_from_bytes_to_list(coded_sequence)\n",
    "            self.last_element = encoded_sequence[-1]\n",
    "            self.coded_sequence = coded_sequence\n",
    "\n",
    "    @staticmethod\n",
    "    def _to_128_coding(value):\n",
    "        if value <= 0:\n",
    "            raise ValueError(\"Value to be encoded must be positive\")\n",
    "        coded_bytes = []\n",
    "        while value > 0:\n",
    "            coded_bytes.append(value % 128)\n",
    "            value //= 128\n",
    "        return coded_bytes[::-1]\n",
    "    \n",
    "    @staticmethod \n",
    "    def _from_128_coding(bytes_list):\n",
    "        encoded_value = 0\n",
    "        for coded_byte in bytes_list:\n",
    "            if coded_byte >= 128:\n",
    "                raise ValueError(f\"Coded byte cannot exceed value of 128, but was: {coded_byte}\")\n",
    "            encoded_value = encoded_value * 128 + coded_byte            \n",
    "        return encoded_value\n",
    "        \n",
    "    @staticmethod\n",
    "    def decode_from_bytes_to_list(coded_sequence):\n",
    "        coded_value_bytes = []\n",
    "        coded_value_increases = []\n",
    "        for coded_byte in list(coded_sequence):\n",
    "            coded_value_bytes.append(coded_byte % 128)\n",
    "            if coded_byte >= 128:\n",
    "                coded_value = PostingList._from_128_coding(coded_value_bytes)\n",
    "                coded_value_increases.append(coded_value)\n",
    "                coded_value_bytes = []\n",
    "        coded_values = []\n",
    "        for value_increase in coded_value_increases:\n",
    "            last_value = coded_values[-1] if len(coded_values) > 0 else 0\n",
    "            coded_values.append(last_value + value_increase)\n",
    "        return coded_values\n",
    "\n",
    "    def append(self, document_id):\n",
    "        if document_id <= self.last_element:\n",
    "            raise ValueError(f\"Added document ID can't be less than the last document ID\")\n",
    "        value_increase = document_id - self.last_element\n",
    "        coded_value_increase = PostingList._to_128_coding(value_increase)\n",
    "        coded_value_increase[-1] += 128\n",
    "        self.coded_sequence += bytearray(coded_value_increase)\n",
    "        self.last_element = document_id\n",
    "        \n",
    "    def decode_to_list(self):\n",
    "        return PostingList.decode_from_bytes_to_list(self.coded_sequence)"
   ]
  },
  {
   "cell_type": "markdown",
   "metadata": {},
   "source": [
    "## Databse management"
   ]
  },
  {
   "cell_type": "code",
   "execution_count": 172,
   "metadata": {},
   "outputs": [],
   "source": [
    "class IndexStorage(object):\n",
    "    DATABASE_NAME = 'index.db'\n",
    "    \n",
    "    def __init__(self):\n",
    "        self.connection = sqlite3.connect(IndexStorage.DATABASE_NAME)\n",
    "        self.cursor = self.connection.cursor()\n",
    "        self._create_tables_if_not_exists()\n",
    "        \n",
    "    def _create_tables_if_not_exists(self):\n",
    "        self.cursor.execute(\"\"\"\n",
    "            CREATE TABLE IF NOT EXISTS indexed_terms\n",
    "            (term TEXT PRIMARY KEY, posting_list BYTES)\n",
    "        \"\"\")\n",
    "        self.connection.commit()\n",
    "        \n",
    "    def add_indexed_term(self, term, posting_list):\n",
    "        self.cursor.execute(\n",
    "            \"INSERT INTO indexed_terms (term, posting_list) VALUES (?, ?)\",\n",
    "            (term, posting_list.coded_sequence)\n",
    "        )            \n",
    "        self.connection.commit()\n",
    "\n",
    "\n",
    "    def get_posting_list_of_term(self, term):\n",
    "        return self.cursor.execute(\n",
    "            \"SELECT posting_list FROM indexed_terms WHERE term = (?) LIMIT 1\",\n",
    "            (term, )\n",
    "        ).fetchone()[0]\n",
    "        "
   ]
  },
  {
   "cell_type": "code",
   "execution_count": 173,
   "metadata": {},
   "outputs": [],
   "source": [
    "x = IndexStorage()"
   ]
  },
  {
   "cell_type": "code",
   "execution_count": 174,
   "metadata": {},
   "outputs": [],
   "source": [
    "term = \"abc\"\n",
    "posting_list = PostingList()\n",
    "posting_list.append(2)\n",
    "posting_list.append(5)\n",
    "posting_list.append(1000)"
   ]
  },
  {
   "cell_type": "code",
   "execution_count": 175,
   "metadata": {},
   "outputs": [],
   "source": [
    "x.add_indexed_term(term, posting_list)"
   ]
  },
  {
   "cell_type": "code",
   "execution_count": 176,
   "metadata": {},
   "outputs": [],
   "source": [
    "a = x.get_posting_list_of_term(\"abc\")"
   ]
  },
  {
   "cell_type": "code",
   "execution_count": 181,
   "metadata": {},
   "outputs": [],
   "source": [
    "aa = PostingList(a)"
   ]
  },
  {
   "cell_type": "code",
   "execution_count": 182,
   "metadata": {},
   "outputs": [
    {
     "data": {
      "text/plain": [
       "[2, 5, 1000]"
      ]
     },
     "execution_count": 182,
     "metadata": {},
     "output_type": "execute_result"
    }
   ],
   "source": [
    "aa.decode_to_list()"
   ]
  },
  {
   "cell_type": "code",
   "execution_count": 217,
   "metadata": {},
   "outputs": [],
   "source": [
    "class OrderedList(object):\n",
    "    def __init__(self, items):\n",
    "        self.items = tuple(items)\n",
    "        OrderedList._assert_ordered(self.items)\n",
    "\n",
    "    @staticmethod\n",
    "    def _assert_ordered(items):\n",
    "        for i in range(1, len(items)):\n",
    "            if items[i - 1] > items[i]:\n",
    "                raise ValueError(\"Cannot initialize OrderedList with unsorted items\")\n",
    "\n",
    "    def __and__(self, other):\n",
    "        items_intersection = []\n",
    "        self_index, other_index = 0, 0\n",
    "        while self_index < len(self.items) and other_index < len(other.items):\n",
    "            if self.items[self_index] < other.items[other_index]:\n",
    "                self_index += 1\n",
    "            elif self.items[self_index] > other.items[other_index]:\n",
    "                other_index += 1\n",
    "            else:\n",
    "                items_intersection.append(self.items[self_index])\n",
    "                self_index += 1   \n",
    "                other_index += 1            \n",
    "        return OrderedList(items_intersection)\n",
    "\n",
    "    def __or__(self, other):\n",
    "        items_union = []\n",
    "        self_index, other_index = 0, 0\n",
    "        while self_index < len(self.items) or other_index < len(other.items):\n",
    "            if other_index == len(other.items):\n",
    "                items_union.append(self.items[self_index])                \n",
    "                self_index += 1                \n",
    "            elif self_index == len(self.items):\n",
    "                items_union.append(other.items[other_index])                \n",
    "                other_index += 1                              \n",
    "            elif self.items[self_index] < other.items[other_index]:\n",
    "                items_union.append(self.items[self_index])                \n",
    "                self_index += 1\n",
    "            elif self.items[self_index] > other.items[other_index]:\n",
    "                items_union.append(other.items[other_index])                \n",
    "                other_index += 1\n",
    "            else:\n",
    "                items_union.append(self.items[self_index])\n",
    "                self_index += 1   \n",
    "                other_index += 1\n",
    "        return OrderedList(items_union)"
   ]
  },
  {
   "cell_type": "code",
   "execution_count": 218,
   "metadata": {},
   "outputs": [],
   "source": [
    "x = OrderedList([2, 3, 5])"
   ]
  },
  {
   "cell_type": "code",
   "execution_count": 219,
   "metadata": {},
   "outputs": [],
   "source": [
    "y = OrderedList([1, 2, 5, 8])"
   ]
  },
  {
   "cell_type": "code",
   "execution_count": 220,
   "metadata": {},
   "outputs": [
    {
     "data": {
      "text/plain": [
       "(1, 2, 3, 5, 8)"
      ]
     },
     "execution_count": 220,
     "metadata": {},
     "output_type": "execute_result"
    }
   ],
   "source": [
    "(x | y).items"
   ]
  },
  {
   "cell_type": "code",
   "execution_count": null,
   "metadata": {},
   "outputs": [],
   "source": []
  }
 ],
 "metadata": {
  "kernelspec": {
   "display_name": "Python 3",
   "language": "python",
   "name": "python3"
  },
  "language_info": {
   "codemirror_mode": {
    "name": "ipython",
    "version": 3
   },
   "file_extension": ".py",
   "mimetype": "text/x-python",
   "name": "python",
   "nbconvert_exporter": "python",
   "pygments_lexer": "ipython3",
   "version": "3.7.3"
  }
 },
 "nbformat": 4,
 "nbformat_minor": 2
}
