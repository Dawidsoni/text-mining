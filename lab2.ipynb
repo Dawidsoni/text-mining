{
 "cells": [
  {
   "cell_type": "code",
   "execution_count": 12,
   "metadata": {},
   "outputs": [],
   "source": [
    "import pandas as pd\n",
    "import itertools\n",
    "from collections import defaultdict"
   ]
  },
  {
   "cell_type": "code",
   "execution_count": 42,
   "metadata": {},
   "outputs": [
    {
     "name": "stdout",
     "output_type": "stream",
     "text": [
      "True\n"
     ]
    }
   ],
   "source": [
    "def read_words_base_forms():\n",
    "    words_base_forms = defaultdict(lambda: [])\n",
    "    with open(\"base_forms.txt\", \"r\") as fstream:\n",
    "        bases_words = map(lambda x: x.split(\";\")[0:2], fstream.readlines())\n",
    "        for base, word in bases_words:\n",
    "            words_base_forms[word].append(base)\n",
    "    return dict(words_base_forms)\n",
    "\n",
    "    \n",
    "def read_quotes():\n",
    "    with open(\"tokenized_quotes.txt\", \"r\") as fstream:\n",
    "        return list(map(lambda x: x.strip(), fstream.readlines()))\n",
    "\n",
    "\n",
    "def read_trigrams():\n",
    "    with open(\"trigrams.txt\", \"r\") as file_stream:\n",
    "        return list(map(lambda x: x.strip(), file_stream.readlines()))\n",
    "    \n",
    "print(\"bolała mnie głowa\" in set(read_trigrams()))"
   ]
  },
  {
   "cell_type": "code",
   "execution_count": 33,
   "metadata": {},
   "outputs": [],
   "source": [
    "class QuotesIndex(object):\n",
    "    \n",
    "    def __init__(self, words_base_forms, quotes):\n",
    "        self.words_base_forms = words_base_forms\n",
    "        self.quotes = quotes\n",
    "        self.index_of_quotes = self._generate_index_of_quotes()\n",
    "\n",
    "    def _generate_base_forms(self, sentence):\n",
    "        words = sentence.split(' ')\n",
    "        base_forms = []\n",
    "        for word in words:\n",
    "            if word in self.words_base_forms:\n",
    "                base_forms.extend(self.words_base_forms[word])\n",
    "            else:\n",
    "                base_forms.append(word)\n",
    "        return set(base_forms)\n",
    "\n",
    "    def _generate_index_of_quotes(self):\n",
    "        index_of_quotes = defaultdict(lambda: set())\n",
    "        for index, quote in enumerate(self.quotes):\n",
    "            base_forms = self._generate_base_forms(quote)\n",
    "            for base_form in base_forms:\n",
    "                index_of_quotes[base_form].add(index)\n",
    "        return index_of_quotes\n",
    "\n",
    "    def _generate_matching_quotes_indexes(self, query):\n",
    "        words = query.split(\" \")\n",
    "        word_base_forms = {x: self._generate_base_forms(x) for x in words}\n",
    "        query_parts = []\n",
    "        for word, base_forms in word_base_forms.items():\n",
    "            formatted_forms = map(lambda x: f\"index['{x}']\", base_forms)\n",
    "            joined_base_forms = \" | \".join(formatted_forms)\n",
    "            query_parts.append(f\"({joined_base_forms})\")\n",
    "        generated_query = \" & \".join(query_parts)\n",
    "        return eval(generated_query, {\"index\": self.index_of_quotes})                    \n",
    "    \n",
    "    def query_index(self, query):\n",
    "        matching_indexes = self._generate_matching_quotes_indexes(query)\n",
    "        return list(map(lambda x: self.quotes[x], matching_indexes))\n",
    "\n",
    "\n",
    "quotes = read_quotes()\n",
    "words_base_forms = read_words_base_forms()\n",
    "quotes_index = QuotesIndex(words_base_forms, quotes)"
   ]
  },
  {
   "cell_type": "code",
   "execution_count": null,
   "metadata": {},
   "outputs": [],
   "source": [
    "quotes_index.query_index(\"będą to pieniądze\")"
   ]
  },
  {
   "cell_type": "code",
   "execution_count": 44,
   "metadata": {},
   "outputs": [
    {
     "data": {
      "text/plain": [
       "['ja', 'miąć']"
      ]
     },
     "execution_count": 44,
     "metadata": {},
     "output_type": "execute_result"
    }
   ],
   "source": [
    "words_base_forms[\"mnie\"]"
   ]
  },
  {
   "cell_type": "code",
   "execution_count": null,
   "metadata": {},
   "outputs": [],
   "source": []
  }
 ],
 "metadata": {
  "kernelspec": {
   "display_name": "Python 3",
   "language": "python",
   "name": "python3"
  },
  "language_info": {
   "codemirror_mode": {
    "name": "ipython",
    "version": 3
   },
   "file_extension": ".py",
   "mimetype": "text/x-python",
   "name": "python",
   "nbconvert_exporter": "python",
   "pygments_lexer": "ipython3",
   "version": "3.7.3"
  }
 },
 "nbformat": 4,
 "nbformat_minor": 2
}
