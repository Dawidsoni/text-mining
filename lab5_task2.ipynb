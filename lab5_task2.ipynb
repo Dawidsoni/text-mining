{
 "cells": [
  {
   "cell_type": "code",
   "execution_count": 1,
   "metadata": {},
   "outputs": [],
   "source": [
    "import nltk.tokenize\n",
    "import string\n",
    "import itertools\n",
    "import unicodedata\n",
    "from collections import defaultdict, namedtuple\n",
    "import re\n",
    "import numpy as np\n",
    "import scipy.spatial.distance\n",
    "import sys"
   ]
  },
  {
   "cell_type": "code",
   "execution_count": 2,
   "metadata": {},
   "outputs": [],
   "source": [
    "sys.path.append(\"article_finder\")\n",
    "import articles\n",
    "import embeddings"
   ]
  },
  {
   "cell_type": "markdown",
   "metadata": {},
   "source": [
    "## Reading embeddings and base forms"
   ]
  },
  {
   "cell_type": "code",
   "execution_count": 3,
   "metadata": {},
   "outputs": [],
   "source": [
    "def read_words_embeddings():\n",
    "    with open(\"article_finder/data/wiki_embeddings_300.txt\") as file_stream:\n",
    "        lines = [x.strip() for x in file_stream.readlines()]\n",
    "        return {x.split()[0].lower(): np.fromstring(\" \".join(x.split()[1:]), dtype=float, sep=\" \") for x in lines[1:]}\n",
    "    \n",
    "\n",
    "words_embeddings = read_words_embeddings()"
   ]
  },
  {
   "cell_type": "code",
   "execution_count": 4,
   "metadata": {},
   "outputs": [],
   "source": [
    "words_base_forms = embeddings.read_words_base_forms(path=\"article_finder/data/base_forms.txt\")"
   ]
  },
  {
   "cell_type": "markdown",
   "metadata": {},
   "source": [
    "## Synonyms"
   ]
  },
  {
   "cell_type": "code",
   "execution_count": 60,
   "metadata": {},
   "outputs": [],
   "source": [
    "def create_regex_synonyms_candidates(wiki_articles):\n",
    "    synonims_candidates = []\n",
    "    for wiki_article in wiki_articles:\n",
    "        for regex_match in re.findall(\"„([a-z]+)” , „([a-z]+)”\", wiki_article.content):\n",
    "            synonims_candidates.append((regex_match[0], regex_match[1]))\n",
    "    return synonims_candidates\n",
    "\n",
    "\n",
    "def create_regex_synonyms_extended_candidates(wiki_articles):\n",
    "    synonims_candidates = []\n",
    "    for wiki_article in wiki_articles:\n",
    "        for regex_match in re.findall(\"`` ([a-z]+) '' , `` ([a-z]+) ''\", wiki_article.content):\n",
    "            synonims_candidates.append((regex_match[0], regex_match[1]))\n",
    "    return synonims_candidates"
   ]
  },
  {
   "cell_type": "code",
   "execution_count": 56,
   "metadata": {},
   "outputs": [],
   "source": [
    "def is_one_word_synonym(text1, text2):\n",
    "    return len(text1.split(\" \")) == 1 and len(text2.split(\" \")) == 1\n",
    "\n",
    "\n",
    "def get_close_base_forms(word1, word2):\n",
    "    if len(word1) <= 2 or len(word2) <= 2:\n",
    "        return None\n",
    "    base_forms1 = words_base_forms[word1]\n",
    "    base_forms2 = words_base_forms[word2]\n",
    "    for base_form1 in base_forms1:\n",
    "        for base_form2 in base_forms2:\n",
    "            if base_form1 == base_form2:\n",
    "                break            \n",
    "            if base_form1 not in words_embeddings or base_form2 not in words_embeddings:\n",
    "                continue\n",
    "            embeddings1 = words_embeddings[base_form1]\n",
    "            embeddings2 = words_embeddings[base_form2]\n",
    "            if scipy.spatial.distance.cosine(embeddings1, embeddings2) <= 0.75:\n",
    "                return (base_form1, base_form2)\n",
    "    return None"
   ]
  },
  {
   "cell_type": "code",
   "execution_count": 57,
   "metadata": {},
   "outputs": [
    {
     "data": {
      "text/plain": [
       "108"
      ]
     },
     "execution_count": 57,
     "metadata": {},
     "output_type": "execute_result"
    }
   ],
   "source": [
    "wiki_articles = articles.read_wiki_articles(path=\"article_finder/data/wiki_slice.txt\")\n",
    "synonym_candidates = create_regex_synonyms_candidates(wiki_articles)\n",
    "one_word_synonym_candidates = [x for x in synonym_candidates if is_one_word_synonym(*x)]\n",
    "len(one_word_synonym_candidates)"
   ]
  },
  {
   "cell_type": "code",
   "execution_count": 58,
   "metadata": {},
   "outputs": [
    {
     "data": {
      "text/plain": [
       "50"
      ]
     },
     "execution_count": 58,
     "metadata": {},
     "output_type": "execute_result"
    }
   ],
   "source": [
    "close_synonyms = [get_close_base_forms(*x) for x in one_word_synonym_candidates]\n",
    "filtered_synonyms = {x for x in close_synonyms if x is not None}\n",
    "len(filtered_synonyms)"
   ]
  },
  {
   "cell_type": "code",
   "execution_count": 59,
   "metadata": {},
   "outputs": [
    {
     "data": {
      "text/plain": [
       "{('aspiracja', 'zdrowie'),\n",
       " ('bas', 'sopran'),\n",
       " ('boski', 'cudowny'),\n",
       " ('brat', 'kuzyn'),\n",
       " ('człowiek', 'lud'),\n",
       " ('człowiek', 'osoba'),\n",
       " ('developer', 'koder'),\n",
       " ('drugi', 'inny'),\n",
       " ('dziwny', 'obcy'),\n",
       " ('entuzjazm', 'pragnienie'),\n",
       " ('europarlamentarzysta', 'eurodeputowany'),\n",
       " ('inny', 'dziwny'),\n",
       " ('inteligentny', 'twardy'),\n",
       " ('krytycyzm', 'transcendentalizm'),\n",
       " ('labirynt', 'piwiarnia'),\n",
       " ('lalka', 'marionetka'),\n",
       " ('miska', 'miednica'),\n",
       " ('mocny', 'silny'),\n",
       " ('modyfikacja', 'zmiana'),\n",
       " ('niwa', 'niwka'),\n",
       " ('obcy', 'nieznajomy'),\n",
       " ('pakt', 'przymierze'),\n",
       " ('podawanie', 'przekazywać'),\n",
       " ('pompka', 'mostek'),\n",
       " ('powtarzać', 'badanie'),\n",
       " ('prawdziwy', 'prawowity'),\n",
       " ('prawo', 'ustawa'),\n",
       " ('prosty', 'powszechny'),\n",
       " ('przedmurze', 'bastion'),\n",
       " ('przy', 'obok'),\n",
       " ('przybysz', 'nowicjusz'),\n",
       " ('przyroda', 'nauka'),\n",
       " ('psyche', 'dusza'),\n",
       " ('rak', 'krab'),\n",
       " ('rozpuszczać', 'rozdzielać'),\n",
       " ('silny', 'mocny'),\n",
       " ('skoczek', 'tancerz'),\n",
       " ('somatyczny', 'duchowy'),\n",
       " ('staranie', 'zamiar'),\n",
       " ('szacunek', 'samorealizacja'),\n",
       " ('szlachetny', 'dostojny'),\n",
       " ('szybki', 'silny'),\n",
       " ('tajny', 'poufny'),\n",
       " ('tragiczny', 'zbrodniczy'),\n",
       " ('transcendentalizm', 'krytycyzm'),\n",
       " ('unicestwić', 'wybicie'),\n",
       " ('wiara', 'zaufanie'),\n",
       " ('wyznanie', 'credo'),\n",
       " ('ziemia', 'kraj'),\n",
       " ('zwiadowczy', 'rozpoznawczy')}"
      ]
     },
     "execution_count": 59,
     "metadata": {},
     "output_type": "execute_result"
    }
   ],
   "source": [
    "filtered_synonyms"
   ]
  }
 ],
 "metadata": {
  "kernelspec": {
   "display_name": "Python 3",
   "language": "python",
   "name": "python3"
  },
  "language_info": {
   "codemirror_mode": {
    "name": "ipython",
    "version": 3
   },
   "file_extension": ".py",
   "mimetype": "text/x-python",
   "name": "python",
   "nbconvert_exporter": "python",
   "pygments_lexer": "ipython3",
   "version": "3.7.3"
  }
 },
 "nbformat": 4,
 "nbformat_minor": 2
}
